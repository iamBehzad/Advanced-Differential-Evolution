{
  "nbformat": 4,
  "nbformat_minor": 0,
  "metadata": {
    "colab": {
      "provenance": [],
      "authorship_tag": "ABX9TyNhlgpjDpt4zUib341ew/pb",
      "include_colab_link": true
    },
    "kernelspec": {
      "name": "python3",
      "display_name": "Python 3"
    },
    "language_info": {
      "name": "python"
    }
  },
  "cells": [
    {
      "cell_type": "markdown",
      "metadata": {
        "id": "view-in-github",
        "colab_type": "text"
      },
      "source": [
        "<a href=\"https://colab.research.google.com/github/iamBehzad/Advanced-Differential-Evolution/blob/main/MHA_FS_14030908.ipynb\" target=\"_parent\"><img src=\"https://colab.research.google.com/assets/colab-badge.svg\" alt=\"Open In Colab\"/></a>"
      ]
    },
    {
      "cell_type": "code",
      "source": [
        "!pip install mafese"
      ],
      "metadata": {
        "colab": {
          "base_uri": "https://localhost:8080/",
          "height": 772
        },
        "collapsed": true,
        "id": "xcFb0g794iwP",
        "outputId": "f8558e7c-0bac-4764-f753-3324d036bf4e"
      },
      "execution_count": 6,
      "outputs": [
        {
          "output_type": "stream",
          "name": "stdout",
          "text": [
            "Requirement already satisfied: mafese in /usr/local/lib/python3.10/dist-packages (0.2.0)\n",
            "Requirement already satisfied: numpy>=1.17.1 in /usr/local/lib/python3.10/dist-packages (from mafese) (1.26.4)\n",
            "Requirement already satisfied: scipy>=1.7.1 in /usr/local/lib/python3.10/dist-packages (from mafese) (1.13.1)\n",
            "Requirement already satisfied: scikit-learn>=1.0.2 in /usr/local/lib/python3.10/dist-packages (from mafese) (1.5.2)\n",
            "Requirement already satisfied: pandas>=1.3.5 in /usr/local/lib/python3.10/dist-packages (from mafese) (2.2.2)\n",
            "Collecting mealpy==2.5.4 (from mafese)\n",
            "  Using cached mealpy-2.5.4-py3-none-any.whl.metadata (92 kB)\n",
            "Requirement already satisfied: permetrics>=1.4.2 in /usr/local/lib/python3.10/dist-packages (from mafese) (2.0.0)\n",
            "Requirement already satisfied: plotly>=5.10.0 in /usr/local/lib/python3.10/dist-packages (from mafese) (5.24.1)\n",
            "Requirement already satisfied: kaleido>=0.2.1 in /usr/local/lib/python3.10/dist-packages (from mafese) (0.2.1)\n",
            "Requirement already satisfied: matplotlib>=3.3.0 in /usr/local/lib/python3.10/dist-packages (from mealpy==2.5.4->mafese) (3.8.0)\n",
            "Requirement already satisfied: opfunu>=1.0.0 in /usr/local/lib/python3.10/dist-packages (from mealpy==2.5.4->mafese) (1.0.4)\n",
            "Requirement already satisfied: python-dateutil>=2.8.2 in /usr/local/lib/python3.10/dist-packages (from pandas>=1.3.5->mafese) (2.8.2)\n",
            "Requirement already satisfied: pytz>=2020.1 in /usr/local/lib/python3.10/dist-packages (from pandas>=1.3.5->mafese) (2024.2)\n",
            "Requirement already satisfied: tzdata>=2022.7 in /usr/local/lib/python3.10/dist-packages (from pandas>=1.3.5->mafese) (2024.2)\n",
            "Requirement already satisfied: tenacity>=6.2.0 in /usr/local/lib/python3.10/dist-packages (from plotly>=5.10.0->mafese) (9.0.0)\n",
            "Requirement already satisfied: packaging in /usr/local/lib/python3.10/dist-packages (from plotly>=5.10.0->mafese) (24.2)\n",
            "Requirement already satisfied: joblib>=1.2.0 in /usr/local/lib/python3.10/dist-packages (from scikit-learn>=1.0.2->mafese) (1.4.2)\n",
            "Requirement already satisfied: threadpoolctl>=3.1.0 in /usr/local/lib/python3.10/dist-packages (from scikit-learn>=1.0.2->mafese) (3.5.0)\n",
            "Requirement already satisfied: contourpy>=1.0.1 in /usr/local/lib/python3.10/dist-packages (from matplotlib>=3.3.0->mealpy==2.5.4->mafese) (1.3.1)\n",
            "Requirement already satisfied: cycler>=0.10 in /usr/local/lib/python3.10/dist-packages (from matplotlib>=3.3.0->mealpy==2.5.4->mafese) (0.12.1)\n",
            "Requirement already satisfied: fonttools>=4.22.0 in /usr/local/lib/python3.10/dist-packages (from matplotlib>=3.3.0->mealpy==2.5.4->mafese) (4.55.0)\n",
            "Requirement already satisfied: kiwisolver>=1.0.1 in /usr/local/lib/python3.10/dist-packages (from matplotlib>=3.3.0->mealpy==2.5.4->mafese) (1.4.7)\n",
            "Requirement already satisfied: pillow>=6.2.0 in /usr/local/lib/python3.10/dist-packages (from matplotlib>=3.3.0->mealpy==2.5.4->mafese) (11.0.0)\n",
            "Requirement already satisfied: pyparsing>=2.3.1 in /usr/local/lib/python3.10/dist-packages (from matplotlib>=3.3.0->mealpy==2.5.4->mafese) (3.2.0)\n",
            "Requirement already satisfied: requests>=2.27.0 in /usr/local/lib/python3.10/dist-packages (from opfunu>=1.0.0->mealpy==2.5.4->mafese) (2.32.3)\n",
            "Requirement already satisfied: six>=1.5 in /usr/local/lib/python3.10/dist-packages (from python-dateutil>=2.8.2->pandas>=1.3.5->mafese) (1.16.0)\n",
            "Requirement already satisfied: charset-normalizer<4,>=2 in /usr/local/lib/python3.10/dist-packages (from requests>=2.27.0->opfunu>=1.0.0->mealpy==2.5.4->mafese) (3.4.0)\n",
            "Requirement already satisfied: idna<4,>=2.5 in /usr/local/lib/python3.10/dist-packages (from requests>=2.27.0->opfunu>=1.0.0->mealpy==2.5.4->mafese) (3.10)\n",
            "Requirement already satisfied: urllib3<3,>=1.21.1 in /usr/local/lib/python3.10/dist-packages (from requests>=2.27.0->opfunu>=1.0.0->mealpy==2.5.4->mafese) (2.2.3)\n",
            "Requirement already satisfied: certifi>=2017.4.17 in /usr/local/lib/python3.10/dist-packages (from requests>=2.27.0->opfunu>=1.0.0->mealpy==2.5.4->mafese) (2024.8.30)\n",
            "Using cached mealpy-2.5.4-py3-none-any.whl (377 kB)\n",
            "Installing collected packages: mealpy\n",
            "  Attempting uninstall: mealpy\n",
            "    Found existing installation: mealpy 3.0.1\n",
            "    Uninstalling mealpy-3.0.1:\n",
            "      Successfully uninstalled mealpy-3.0.1\n",
            "Successfully installed mealpy-2.5.4\n"
          ]
        },
        {
          "output_type": "display_data",
          "data": {
            "application/vnd.colab-display-data+json": {
              "pip_warning": {
                "packages": [
                  "mealpy"
                ]
              },
              "id": "70421ec1ddcf412ba7ef4302f8b800aa"
            }
          },
          "metadata": {}
        }
      ]
    },
    {
      "cell_type": "code",
      "execution_count": 2,
      "metadata": {
        "colab": {
          "base_uri": "https://localhost:8080/"
        },
        "collapsed": true,
        "id": "vIuZOdYsx27c",
        "outputId": "57540cfb-42cb-4e4a-8059-53990498f5ce"
      },
      "outputs": [
        {
          "output_type": "stream",
          "name": "stdout",
          "text": [
            "Requirement already satisfied: mealpy in /usr/local/lib/python3.10/dist-packages (2.5.4)\n",
            "Collecting mealpy\n",
            "  Downloading mealpy-3.0.1-py3-none-any.whl.metadata (104 kB)\n",
            "\u001b[2K     \u001b[90m━━━━━━━━━━━━━━━━━━━━━━━━━━━━━━━━━━━━━━━━\u001b[0m \u001b[32m104.9/104.9 kB\u001b[0m \u001b[31m2.3 MB/s\u001b[0m eta \u001b[36m0:00:00\u001b[0m\n",
            "\u001b[?25hRequirement already satisfied: numpy>=1.17.5 in /usr/local/lib/python3.10/dist-packages (from mealpy) (1.26.4)\n",
            "Requirement already satisfied: matplotlib>=3.3.0 in /usr/local/lib/python3.10/dist-packages (from mealpy) (3.8.0)\n",
            "Requirement already satisfied: scipy>=1.7.1 in /usr/local/lib/python3.10/dist-packages (from mealpy) (1.13.1)\n",
            "Requirement already satisfied: pandas>=1.2.0 in /usr/local/lib/python3.10/dist-packages (from mealpy) (2.2.2)\n",
            "Requirement already satisfied: opfunu>=1.0.0 in /usr/local/lib/python3.10/dist-packages (from mealpy) (1.0.4)\n",
            "Requirement already satisfied: contourpy>=1.0.1 in /usr/local/lib/python3.10/dist-packages (from matplotlib>=3.3.0->mealpy) (1.3.1)\n",
            "Requirement already satisfied: cycler>=0.10 in /usr/local/lib/python3.10/dist-packages (from matplotlib>=3.3.0->mealpy) (0.12.1)\n",
            "Requirement already satisfied: fonttools>=4.22.0 in /usr/local/lib/python3.10/dist-packages (from matplotlib>=3.3.0->mealpy) (4.55.0)\n",
            "Requirement already satisfied: kiwisolver>=1.0.1 in /usr/local/lib/python3.10/dist-packages (from matplotlib>=3.3.0->mealpy) (1.4.7)\n",
            "Requirement already satisfied: packaging>=20.0 in /usr/local/lib/python3.10/dist-packages (from matplotlib>=3.3.0->mealpy) (24.2)\n",
            "Requirement already satisfied: pillow>=6.2.0 in /usr/local/lib/python3.10/dist-packages (from matplotlib>=3.3.0->mealpy) (11.0.0)\n",
            "Requirement already satisfied: pyparsing>=2.3.1 in /usr/local/lib/python3.10/dist-packages (from matplotlib>=3.3.0->mealpy) (3.2.0)\n",
            "Requirement already satisfied: python-dateutil>=2.7 in /usr/local/lib/python3.10/dist-packages (from matplotlib>=3.3.0->mealpy) (2.8.2)\n",
            "Requirement already satisfied: requests>=2.27.0 in /usr/local/lib/python3.10/dist-packages (from opfunu>=1.0.0->mealpy) (2.32.3)\n",
            "Requirement already satisfied: pytz>=2020.1 in /usr/local/lib/python3.10/dist-packages (from pandas>=1.2.0->mealpy) (2024.2)\n",
            "Requirement already satisfied: tzdata>=2022.7 in /usr/local/lib/python3.10/dist-packages (from pandas>=1.2.0->mealpy) (2024.2)\n",
            "Requirement already satisfied: six>=1.5 in /usr/local/lib/python3.10/dist-packages (from python-dateutil>=2.7->matplotlib>=3.3.0->mealpy) (1.16.0)\n",
            "Requirement already satisfied: charset-normalizer<4,>=2 in /usr/local/lib/python3.10/dist-packages (from requests>=2.27.0->opfunu>=1.0.0->mealpy) (3.4.0)\n",
            "Requirement already satisfied: idna<4,>=2.5 in /usr/local/lib/python3.10/dist-packages (from requests>=2.27.0->opfunu>=1.0.0->mealpy) (3.10)\n",
            "Requirement already satisfied: urllib3<3,>=1.21.1 in /usr/local/lib/python3.10/dist-packages (from requests>=2.27.0->opfunu>=1.0.0->mealpy) (2.2.3)\n",
            "Requirement already satisfied: certifi>=2017.4.17 in /usr/local/lib/python3.10/dist-packages (from requests>=2.27.0->opfunu>=1.0.0->mealpy) (2024.8.30)\n",
            "Downloading mealpy-3.0.1-py3-none-any.whl (386 kB)\n",
            "\u001b[2K   \u001b[90m━━━━━━━━━━━━━━━━━━━━━━━━━━━━━━━━━━━━━━━━\u001b[0m \u001b[32m386.3/386.3 kB\u001b[0m \u001b[31m10.0 MB/s\u001b[0m eta \u001b[36m0:00:00\u001b[0m\n",
            "\u001b[?25hInstalling collected packages: mealpy\n",
            "  Attempting uninstall: mealpy\n",
            "    Found existing installation: mealpy 2.5.4\n",
            "    Uninstalling mealpy-2.5.4:\n",
            "      Successfully uninstalled mealpy-2.5.4\n",
            "\u001b[31mERROR: pip's dependency resolver does not currently take into account all the packages that are installed. This behaviour is the source of the following dependency conflicts.\n",
            "mafese 0.2.0 requires mealpy==2.5.4, but you have mealpy 3.0.1 which is incompatible.\u001b[0m\u001b[31m\n",
            "\u001b[0mSuccessfully installed mealpy-3.0.1\n"
          ]
        }
      ],
      "source": [
        "!pip install mealpy --upgrade"
      ]
    },
    {
      "cell_type": "code",
      "source": [
        "import numpy as np\n",
        "import mealpy\n",
        "from mealpy import Optimizer, FloatVar,Multitask, GA\n",
        "\n",
        "import mafese\n",
        "from mafese.wrapper.mha import MhaSelector\n",
        "from mafese import get_dataset\n",
        "\n",
        "from sklearn.svm import SVC"
      ],
      "metadata": {
        "colab": {
          "base_uri": "https://localhost:8080/",
          "height": 383
        },
        "id": "KVRIlhvf2JJA",
        "outputId": "4b40573f-d9f5-4f7a-e425-161a522ad213"
      },
      "execution_count": 1,
      "outputs": [
        {
          "output_type": "error",
          "ename": "ImportError",
          "evalue": "cannot import name 'FloatVar' from 'mealpy' (/usr/local/lib/python3.10/dist-packages/mealpy/__init__.py)",
          "traceback": [
            "\u001b[0;31m---------------------------------------------------------------------------\u001b[0m",
            "\u001b[0;31mImportError\u001b[0m                               Traceback (most recent call last)",
            "\u001b[0;32m<ipython-input-1-6c5ceba3a831>\u001b[0m in \u001b[0;36m<cell line: 3>\u001b[0;34m()\u001b[0m\n\u001b[1;32m      1\u001b[0m \u001b[0;32mimport\u001b[0m \u001b[0mnumpy\u001b[0m \u001b[0;32mas\u001b[0m \u001b[0mnp\u001b[0m\u001b[0;34m\u001b[0m\u001b[0;34m\u001b[0m\u001b[0m\n\u001b[1;32m      2\u001b[0m \u001b[0;32mimport\u001b[0m \u001b[0mmealpy\u001b[0m\u001b[0;34m\u001b[0m\u001b[0;34m\u001b[0m\u001b[0m\n\u001b[0;32m----> 3\u001b[0;31m \u001b[0;32mfrom\u001b[0m \u001b[0mmealpy\u001b[0m \u001b[0;32mimport\u001b[0m \u001b[0mOptimizer\u001b[0m\u001b[0;34m,\u001b[0m \u001b[0mFloatVar\u001b[0m\u001b[0;34m,\u001b[0m\u001b[0mMultitask\u001b[0m\u001b[0;34m,\u001b[0m \u001b[0mGA\u001b[0m\u001b[0;34m\u001b[0m\u001b[0;34m\u001b[0m\u001b[0m\n\u001b[0m\u001b[1;32m      4\u001b[0m \u001b[0;34m\u001b[0m\u001b[0m\n\u001b[1;32m      5\u001b[0m \u001b[0;32mimport\u001b[0m \u001b[0mmafese\u001b[0m\u001b[0;34m\u001b[0m\u001b[0;34m\u001b[0m\u001b[0m\n",
            "\u001b[0;31mImportError\u001b[0m: cannot import name 'FloatVar' from 'mealpy' (/usr/local/lib/python3.10/dist-packages/mealpy/__init__.py)",
            "",
            "\u001b[0;31m---------------------------------------------------------------------------\u001b[0;32m\nNOTE: If your import is failing due to a missing package, you can\nmanually install dependencies using either !pip or !apt.\n\nTo view examples of installing some common dependencies, click the\n\"Open Examples\" button below.\n\u001b[0;31m---------------------------------------------------------------------------\u001b[0m\n"
          ],
          "errorDetails": {
            "actions": [
              {
                "action": "open_url",
                "actionText": "Open Examples",
                "url": "/notebooks/snippets/importing_libraries.ipynb"
              }
            ]
          }
        }
      ]
    },
    {
      "cell_type": "code",
      "source": [
        "class ADE(Optimizer):\n",
        "    \"\"\"\n",
        "    This is an example how to build new optimizer\n",
        "    \"\"\"\n",
        "\n",
        "    def __init__(self, epoch=10000, pop_size=100, NPopmin=4, pCR=0.75, **kwargs):\n",
        "        super().__init__(**kwargs)\n",
        "        self.epoch = self.validator.check_int(\"epoch\", epoch, [1, 100000])\n",
        "        self.pop_size = self.validator.check_int(\"pop_size\", pop_size, [10, 10000])\n",
        "        self.NPopmin = self.validator.check_int(\"NPopmin\", NPopmin, [4, int(self.pop_size/2)])\n",
        "        self.pCR = self.validator.check_float(\"pCR\", pCR, (0, 1.0))\n",
        "        self.lb, self.ub, self.n_dims = None, None, None\n",
        "\n",
        "        self.sort_flag = True\n",
        "        # Determine to sort the problem or not in each epoch\n",
        "        ## if True, the problem always sorted with fitness value increase\n",
        "        ## if False, the problem is not sorted\n",
        "\n",
        "    def initialize_variables(self):\n",
        "      pass\n",
        "    def initialization(self):\n",
        "        \"\"\"\n",
        "        Override this method if needed. But the first 2 lines of code is required.\n",
        "        \"\"\"\n",
        "        ### Required code\n",
        "        if self.pop is None:\n",
        "            self.pop = self.generate_population(self.pop_size)\n",
        "\n",
        "        ### Your additional code can be implemented here\n",
        "        self.lb = self.problem.lb\n",
        "        self.ub = self.problem.ub\n",
        "        self.n_dims = self.problem.n_dims\n",
        "\n",
        "        # ADE Parameters\n",
        "        self.NPopinit = self.pop_size -2\n",
        "        self.Pop1Size = self.NPopinit\n",
        "        self.Pop2Size = self.pop_size - self.Pop1Size\n",
        "        self.beta_min = 0.2  # Lower Bound of Scaling Factor\n",
        "        self.beta_max = 0.8  # Upper Bound of Scaling Factor\n",
        "\n",
        "        initial_pop = self.chaotic_initialization(self.pop_size, self.n_dims, self.problem.lb, self.problem.ub)\n",
        "        self.pop = [self.generate_agent(initial_pop[idx]) for idx in range(0, self.pop_size)]\n",
        "\n",
        "        # Find initial global best solution\n",
        "        self.g_best = self.get_sorted_population(self.pop, minmax=\"min\")[0]\n",
        "        self.pop1 = self.pop[:self.Pop1Size]\n",
        "        self.pop2 = self.pop[self.Pop1Size:]\n",
        "        #print(\"len(self.pop=)\",len(self.pop))\n",
        "        #print(\"len(self.pop1=)\",len(self.pop1))\n",
        "        #print(\"len(self.pop2=)\",len(self.pop2))\n",
        "\n",
        "    def evolve(self, epoch):\n",
        "        self.Pop1Size = round((((self.NPopmin - self.NPopinit) / self.epoch) * (epoch-1)) + self.NPopinit)\n",
        "        #print (f\"self.Pop1Size={self.Pop1Size}\", f\"self.NPopmin={self.NPopmin}\",\n",
        "        #       f\"self.NPopinit={self.NPopinit}\", f\"self.epoch={self.epoch}\",f\"epoch={epoch}\")\n",
        "        if self.Pop1Size < len(self.pop1):\n",
        "            self.Pop2Size = self.pop_size - self.Pop1Size\n",
        "            self.pop1, self.g_best = self.update_global_best_agent(self.pop1)\n",
        "            self.pop2.append(self.g_best)  # Add the Best to pop2\n",
        "            self.pop1=self.pop1[:-1] # Delete the worst from pop1\n",
        "\n",
        "        # Phase 1: Update pop1\n",
        "        for i in range(self.Pop1Size):\n",
        "            x1 = self.pop1[i].solution\n",
        "            A = np.random.permutation(self.Pop1Size)\n",
        "            A = np.delete(A, np.where(A == i))\n",
        "            a, b, c = A[:3]\n",
        "            # Scale Factor (beta1)\n",
        "            if np.linalg.norm(self.pop1[b].solution  - self.pop1[c].solution ) > (np.linalg.norm(self.ub - self.lb) / 10):\n",
        "                beta1 = np.random.uniform(self.beta_min, self.beta_max, self.n_dims)\n",
        "            else:\n",
        "                beta1 = np.random.uniform(self.beta_min, self.beta_max * (1 + np.random.rand()), self.n_dims)\n",
        "\n",
        "            y1 = self.pop1[a].solution + beta1 * (self.pop1[b].solution - self.pop1[c].solution)\n",
        "            y1 = np.clip(y1, self.lb, self.ub)\n",
        "            z1 = self.crossover(x1, y1, self.pCR)\n",
        "\n",
        "            # Evaluate and update best solution\n",
        "            new_agent = self.generate_agent(z1)\n",
        "            if self.compare_target(new_agent.target , self.pop1[i].target , minmax=\"min\"):\n",
        "                self.pop1[i] = new_agent\n",
        "            #else:\n",
        "            #    #print([z1, self.n_dims, self.lb, self.ub])\n",
        "            #    #obl_z1 = self.obl_pos(z1, self.n_dims, self.lb, self.ub)\n",
        "            #    obl_z1 = self.generate_opposition_solution(new_agent, self.g_best)\n",
        "            #    obl_agent = self.generate_agent(obl_z1)\n",
        "            #    if self.compare_target(obl_agent.target , self.pop1[i].target , minmax=\"min\"):\n",
        "            #        self.pop1[i] = obl_agent\n",
        "\n",
        "            # Update global best solution\n",
        "            self.pop1, self.g_best = self.update_global_best_agent(self.pop1)\n",
        "\n",
        "        # Phase 2: Update pop2\n",
        "        if self.Pop2Size >= (2 * self.NPopmin):\n",
        "            self.pop2[:self.NPopmin] = self.pop1[:self.NPopmin]\n",
        "\n",
        "        for j in range(self.Pop2Size):\n",
        "            x2 = self.pop2[j].solution\n",
        "            resOfTop2 = (np.random.rand(self.n_dims) * (x2 - self.pop2[0].solution) +\n",
        "                         np.random.rand(self.n_dims) * (x2 - self.pop2[1].solution))\n",
        "            beta2 = np.random.uniform(self.beta_min, self.beta_max, self.n_dims)\n",
        "            y2 = beta2 * resOfTop2\n",
        "            y2 = np.clip(y2, self.lb, self.ub)\n",
        "            z2 = self.crossover(x2, y2, self.pCR)\n",
        "            new_agent2 = self.generate_agent(z2)\n",
        "            self.g_best = self.get_better_agent(self.g_best, new_agent2, minmax = \"min\", reverse= False)\n",
        "            self.pop2.append(new_agent2)\n",
        "\n",
        "        # Sort pop2 and retain only Pop2Size solutions\n",
        "        self.pop2 = self.get_sorted_and_trimmed_population(self.pop2, self.Pop2Size, minmax = \"min\")\n",
        "\n",
        "\n",
        "    def logistic_map(self,x, mu=4):\n",
        "      # Ensure x remains in the valid range\n",
        "      x = np.clip(x, 0, 1)\n",
        "      return mu * x * (1 - x)\n",
        "\n",
        "    def chaotic_initialization(self, pop_size, dim, lb, ub, num_iterations=10):\n",
        "        pop = []\n",
        "        lb = np.array(lb)\n",
        "        ub = np.array(ub)\n",
        "        x = np.random.rand(dim)  # Initialize within [0, 1]\n",
        "\n",
        "        for i in range(pop_size):\n",
        "            for _ in range(num_iterations):  # Apply logistic map multiple times for chaos\n",
        "                x = self.logistic_map(x)\n",
        "            # Rescale chaotic values to [lb, ub]\n",
        "            chaotic_position = lb + x * (ub - lb)\n",
        "            pop.append(chaotic_position)\n",
        "        return pop\n",
        "\n",
        "    def crossover(self,x, y, pCR):\n",
        "        z = np.zeros_like(x)\n",
        "        j0 = np.random.randint(0, len(x))\n",
        "        for jj in range(len(x)):\n",
        "            if jj == j0 or np.random.rand() <= pCR:\n",
        "                z[jj] = y[jj]\n",
        "            else:\n",
        "                z[jj] = x[jj]\n",
        "        return z\n",
        "\n",
        "    def obl_pos(X, dim, lb, ub):\n",
        "        #lb = np.array(lb)  # Lower bound for each dimension\n",
        "        #ub = np.array(ub)  # Upper bound for each dimension\n",
        "        # Calculate the opposite position\n",
        "        OPos = ub + lb - X  # Element-wise operation\n",
        "        OPos = np.clip(OPos, lb, ub)\n",
        "        return OPos"
      ],
      "metadata": {
        "id": "Yle2--3s2JFa"
      },
      "execution_count": 4,
      "outputs": []
    },
    {
      "cell_type": "code",
      "source": [
        "from mafese.wrapper.mha import MhaSelector\n",
        "from mafese import get_dataset\n",
        "from sklearn.svm import SVC\n",
        "\n",
        "data = get_dataset(\"Arrhythmia\")\n",
        "data.split_train_test(test_size=0.2)\n",
        "print(data.X_train.shape, data.X_test.shape)            # (361, 279) (91, 279)\n",
        "\n",
        "optimizer = GA.BaseGA(epoch=100, pop_size=50, pc=0.85, pm=0.1)\n",
        "\n",
        "# define mafese feature selection method\n",
        "feat_selector = MhaSelector(problem=\"classification\", estimator=\"knn\",\n",
        "                            optimizer=optimizer, optimizer_paras=None,\n",
        "                            transfer_func=\"vstf_01\", obj_name=\"AS\")\n",
        "# find all relevant features\n",
        "feat_selector.fit(data.X_train, data.y_train, fit_weights=(0.9, 0.1), verbose=True)\n",
        "\n",
        "# check selected features - True (or 1) is selected, False (or 0) is not selected\n",
        "print(feat_selector.selected_feature_masks)\n",
        "print(feat_selector.selected_feature_solution)\n",
        "\n",
        "# check the index of selected features\n",
        "print(feat_selector.selected_feature_indexes)\n",
        "\n",
        "# call transform() on X to filter it down to selected features\n",
        "X_train_selected = feat_selector.transform(data.X_train)\n",
        "X_test_selected = feat_selector.transform(data.X_test)\n",
        "\n",
        "# Evaluate final dataset with different estimator with multiple performance metrics\n",
        "results = feat_selector.evaluate(estimator=SVC(), data=data, metrics=[\"AS\", \"PS\", \"RS\"])\n",
        "print(results)\n",
        "# {'AS_train': 0.77176, 'PS_train': 0.54177, 'RS_train': 0.6205, 'AS_test': 0.72636, 'PS_test': 0.34628, 'RS_test': 0.52747}"
      ],
      "metadata": {
        "id": "2g6V2Qt42JBM",
        "colab": {
          "base_uri": "https://localhost:8080/",
          "height": 408
        },
        "outputId": "23d56a96-3941-4965-cb22-bf96983cc0d2"
      },
      "execution_count": 5,
      "outputs": [
        {
          "output_type": "stream",
          "name": "stdout",
          "text": [
            "Requested CLASSIFICATION dataset: Arrhythmia found and loaded!\n",
            "(361, 279) (91, 279)\n"
          ]
        },
        {
          "output_type": "error",
          "ename": "TypeError",
          "evalue": "Problem.__init__() takes from 2 to 3 positional arguments but 4 were given",
          "traceback": [
            "\u001b[0;31m---------------------------------------------------------------------------\u001b[0m",
            "\u001b[0;31mTypeError\u001b[0m                                 Traceback (most recent call last)",
            "\u001b[0;32m<ipython-input-5-714bae1db029>\u001b[0m in \u001b[0;36m<cell line: 16>\u001b[0;34m()\u001b[0m\n\u001b[1;32m     14\u001b[0m                             transfer_func=\"vstf_01\", obj_name=\"AS\")\n\u001b[1;32m     15\u001b[0m \u001b[0;31m# find all relevant features\u001b[0m\u001b[0;34m\u001b[0m\u001b[0;34m\u001b[0m\u001b[0m\n\u001b[0;32m---> 16\u001b[0;31m \u001b[0mfeat_selector\u001b[0m\u001b[0;34m.\u001b[0m\u001b[0mfit\u001b[0m\u001b[0;34m(\u001b[0m\u001b[0mdata\u001b[0m\u001b[0;34m.\u001b[0m\u001b[0mX_train\u001b[0m\u001b[0;34m,\u001b[0m \u001b[0mdata\u001b[0m\u001b[0;34m.\u001b[0m\u001b[0my_train\u001b[0m\u001b[0;34m,\u001b[0m \u001b[0mfit_weights\u001b[0m\u001b[0;34m=\u001b[0m\u001b[0;34m(\u001b[0m\u001b[0;36m0.9\u001b[0m\u001b[0;34m,\u001b[0m \u001b[0;36m0.1\u001b[0m\u001b[0;34m)\u001b[0m\u001b[0;34m,\u001b[0m \u001b[0mverbose\u001b[0m\u001b[0;34m=\u001b[0m\u001b[0;32mTrue\u001b[0m\u001b[0;34m)\u001b[0m\u001b[0;34m\u001b[0m\u001b[0;34m\u001b[0m\u001b[0m\n\u001b[0m\u001b[1;32m     17\u001b[0m \u001b[0;34m\u001b[0m\u001b[0m\n\u001b[1;32m     18\u001b[0m \u001b[0;31m# check selected features - True (or 1) is selected, False (or 0) is not selected\u001b[0m\u001b[0;34m\u001b[0m\u001b[0;34m\u001b[0m\u001b[0m\n",
            "\u001b[0;32m/usr/local/lib/python3.10/dist-packages/mafese/wrapper/mha.py\u001b[0m in \u001b[0;36mfit\u001b[0;34m(self, X, y, fit_weights, verbose, mode, n_workers, termination)\u001b[0m\n\u001b[1;32m    213\u001b[0m         \u001b[0mfit_sign\u001b[0m \u001b[0;34m=\u001b[0m \u001b[0;34m-\u001b[0m\u001b[0;36m1\u001b[0m \u001b[0;32mif\u001b[0m \u001b[0mminmax\u001b[0m \u001b[0;34m==\u001b[0m \u001b[0;34m\"max\"\u001b[0m \u001b[0;32melse\u001b[0m \u001b[0;36m1\u001b[0m\u001b[0;34m\u001b[0m\u001b[0;34m\u001b[0m\u001b[0m\n\u001b[1;32m    214\u001b[0m         \u001b[0mlog_to\u001b[0m \u001b[0;34m=\u001b[0m \u001b[0;34m\"console\"\u001b[0m \u001b[0;32mif\u001b[0m \u001b[0mverbose\u001b[0m \u001b[0;32melse\u001b[0m \u001b[0;34m\"None\"\u001b[0m\u001b[0;34m\u001b[0m\u001b[0;34m\u001b[0m\u001b[0m\n\u001b[0;32m--> 215\u001b[0;31m         prob = FeatureSelectionProblem(lb, ub, minmax, data=self.data,\n\u001b[0m\u001b[1;32m    216\u001b[0m                                        \u001b[0mestimator\u001b[0m\u001b[0;34m=\u001b[0m\u001b[0mself\u001b[0m\u001b[0;34m.\u001b[0m\u001b[0mestimator\u001b[0m\u001b[0;34m,\u001b[0m \u001b[0mtransfer_func\u001b[0m\u001b[0;34m=\u001b[0m\u001b[0mself\u001b[0m\u001b[0;34m.\u001b[0m\u001b[0mtransfer_func_\u001b[0m\u001b[0;34m,\u001b[0m \u001b[0mobj_name\u001b[0m\u001b[0;34m=\u001b[0m\u001b[0mself\u001b[0m\u001b[0;34m.\u001b[0m\u001b[0mobj_name\u001b[0m\u001b[0;34m,\u001b[0m\u001b[0;34m\u001b[0m\u001b[0;34m\u001b[0m\u001b[0m\n\u001b[1;32m    217\u001b[0m                                        \u001b[0mmetric_class\u001b[0m\u001b[0;34m=\u001b[0m\u001b[0mmetric_class\u001b[0m\u001b[0;34m,\u001b[0m \u001b[0mfit_weights\u001b[0m\u001b[0;34m=\u001b[0m\u001b[0mfit_weights\u001b[0m\u001b[0;34m,\u001b[0m \u001b[0mfit_sign\u001b[0m\u001b[0;34m=\u001b[0m\u001b[0mfit_sign\u001b[0m\u001b[0;34m,\u001b[0m \u001b[0mlog_to\u001b[0m\u001b[0;34m=\u001b[0m\u001b[0mlog_to\u001b[0m\u001b[0;34m,\u001b[0m\u001b[0;34m\u001b[0m\u001b[0;34m\u001b[0m\u001b[0m\n",
            "\u001b[0;32m/usr/local/lib/python3.10/dist-packages/mafese/utils/mealpy_util.py\u001b[0m in \u001b[0;36m__init__\u001b[0;34m(self, lb, ub, minmax, data, estimator, transfer_func, obj_name, metric_class, fit_weights, fit_sign, obj_paras, name, **kwargs)\u001b[0m\n\u001b[1;32m     25\u001b[0m         \u001b[0mself\u001b[0m\u001b[0;34m.\u001b[0m\u001b[0mobj_paras\u001b[0m \u001b[0;34m=\u001b[0m \u001b[0mobj_paras\u001b[0m\u001b[0;34m\u001b[0m\u001b[0;34m\u001b[0m\u001b[0m\n\u001b[1;32m     26\u001b[0m         \u001b[0mself\u001b[0m\u001b[0;34m.\u001b[0m\u001b[0mname\u001b[0m \u001b[0;34m=\u001b[0m \u001b[0mname\u001b[0m\u001b[0;34m\u001b[0m\u001b[0;34m\u001b[0m\u001b[0m\n\u001b[0;32m---> 27\u001b[0;31m         \u001b[0msuper\u001b[0m\u001b[0;34m(\u001b[0m\u001b[0;34m)\u001b[0m\u001b[0;34m.\u001b[0m\u001b[0m__init__\u001b[0m\u001b[0;34m(\u001b[0m\u001b[0mlb\u001b[0m\u001b[0;34m,\u001b[0m \u001b[0mub\u001b[0m\u001b[0;34m,\u001b[0m \u001b[0mminmax\u001b[0m\u001b[0;34m,\u001b[0m \u001b[0;34m**\u001b[0m\u001b[0mkwargs\u001b[0m\u001b[0;34m)\u001b[0m\u001b[0;34m\u001b[0m\u001b[0;34m\u001b[0m\u001b[0m\n\u001b[0m\u001b[1;32m     28\u001b[0m \u001b[0;34m\u001b[0m\u001b[0m\n\u001b[1;32m     29\u001b[0m     \u001b[0;32mdef\u001b[0m \u001b[0mamend_position\u001b[0m\u001b[0;34m(\u001b[0m\u001b[0mself\u001b[0m\u001b[0;34m,\u001b[0m \u001b[0mposition\u001b[0m\u001b[0;34m=\u001b[0m\u001b[0;32mNone\u001b[0m\u001b[0;34m,\u001b[0m \u001b[0mlb\u001b[0m\u001b[0;34m=\u001b[0m\u001b[0;32mNone\u001b[0m\u001b[0;34m,\u001b[0m \u001b[0mub\u001b[0m\u001b[0;34m=\u001b[0m\u001b[0;32mNone\u001b[0m\u001b[0;34m)\u001b[0m\u001b[0;34m:\u001b[0m\u001b[0;34m\u001b[0m\u001b[0;34m\u001b[0m\u001b[0m\n",
            "\u001b[0;31mTypeError\u001b[0m: Problem.__init__() takes from 2 to 3 positional arguments but 4 were given"
          ]
        }
      ]
    }
  ]
}